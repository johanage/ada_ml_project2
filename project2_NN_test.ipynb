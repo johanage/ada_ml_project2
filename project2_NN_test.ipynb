{
 "cells": [
  {
   "cell_type": "code",
   "execution_count": 1,
   "id": "4ffae6b7",
   "metadata": {},
   "outputs": [
    {
     "data": {
      "text/html": [
       "<style>.container { width:100% !important; }</style>"
      ],
      "text/plain": [
       "<IPython.core.display.HTML object>"
      ]
     },
     "metadata": {},
     "output_type": "display_data"
    }
   ],
   "source": [
    "from IPython.display import display, HTML\n",
    "display(HTML(\"<style>.container { width:100% !important; }</style>\"))\n",
    "from project2 import *\n",
    "import numpy as np\n",
    "from matplotlib import pyplot as plt\n",
    "import seaborn as sns\n",
    "import pandas as pd\n",
    "import random, time\n",
    "\n",
    "# Make NumPy printouts easier to read.\n",
    "np.set_printoptions(precision=3, suppress=True)"
   ]
  },
  {
   "cell_type": "code",
   "execution_count": 2,
   "id": "cf543cbf",
   "metadata": {},
   "outputs": [
    {
     "data": {
      "text/plain": [
       "[<matplotlib.lines.Line2D at 0x7f3c48a4d130>]"
      ]
     },
     "execution_count": 2,
     "metadata": {},
     "output_type": "execute_result"
    },
    {
     "data": {
      "image/png": "[encoded data removed]",
      "text/plain": [
       "<Figure size 432x288 with 1 Axes>"
      ]
     },
     "metadata": {
      "needs_background": "light"
     },
     "output_type": "display_data"
    }
   ],
   "source": [
    "from project2.test import test_func_poly_deg_p\n",
    "np.random.seed(3155)\n",
    "avec = np.array([0,1,2])\n",
    "deg = len(avec)-1\n",
    "x = np.linspace(-1,1,500)\n",
    "# using simple linear regression to validate the gradient descent methods\n",
    "X = np.ones((x.shape[0],deg+1))\n",
    "for i in range(1,X.shape[1]):\n",
    "    X[:,i] = x**i\n",
    "y = test_func_poly_deg_p(deg = deg, avec = avec, x = x)\n",
    "ynoisy = y + np.random.normal(size=y.shape)\n",
    "plt.plot(x, ynoisy)"
   ]
  },
  {
   "cell_type": "markdown",
   "id": "163396d1",
   "metadata": {},
   "source": [
    "# Using tensorflow\n",
    "\n",
    "## Setting up training and test data"
   ]
  },
  {
   "cell_type": "code",
   "execution_count": 3,
   "id": "d8ba00c1",
   "metadata": {},
   "outputs": [
    {
     "name": "stderr",
     "output_type": "stream",
     "text": [
      "2022-11-03 17:43:04.559008: I tensorflow/core/platform/cpu_feature_guard.cc:193] This TensorFlow binary is optimized with oneAPI Deep Neural Network Library (oneDNN) to use the following CPU instructions in performance-critical operations:  AVX2 FMA\n",
      "To enable them in other operations, rebuild TensorFlow with the appropriate compiler flags.\n",
      "2022-11-03 17:43:04.819560: W tensorflow/stream_executor/platform/default/dso_loader.cc:64] Could not load dynamic library 'libcudart.so.11.0'; dlerror: libcudart.so.11.0: cannot open shared object file: No such file or directory\n",
      "2022-11-03 17:43:04.819594: I tensorflow/stream_executor/cuda/cudart_stub.cc:29] Ignore above cudart dlerror if you do not have a GPU set up on your machine.\n",
      "2022-11-03 17:43:04.877550: E tensorflow/stream_executor/cuda/cuda_blas.cc:2981] Unable to register cuBLAS factory: Attempting to register factory for plugin cuBLAS when one has already been registered\n",
      "2022-11-03 17:43:05.803127: W tensorflow/stream_executor/platform/default/dso_loader.cc:64] Could not load dynamic library 'libnvinfer.so.7'; dlerror: libnvinfer.so.7: cannot open shared object file: No such file or directory\n",
      "2022-11-03 17:43:05.803236: W tensorflow/stream_executor/platform/default/dso_loader.cc:64] Could not load dynamic library 'libnvinfer_plugin.so.7'; dlerror: libnvinfer_plugin.so.7: cannot open shared object file: No such file or directory\n",
      "2022-11-03 17:43:05.803255: W tensorflow/compiler/tf2tensorrt/utils/py_utils.cc:38] TF-TRT Warning: Cannot dlopen some TensorRT libraries. If you would like to use Nvidia GPU with TensorRT, please make sure the missing libraries mentioned above are installed properly.\n"
     ]
    },
    {
     "name": "stdout",
     "output_type": "stream",
     "text": [
      "2.10.0\n"
     ]
    }
   ],
   "source": [
    "import tensorflow as tf\n",
    "print(tf.__version__)\n",
    "from sklearn.model_selection import train_test_split"
   ]
  },
  {
   "cell_type": "code",
   "execution_count": 4,
   "id": "8b966bae",
   "metadata": {},
   "outputs": [],
   "source": [
    "X_train, X_test, y_train, y_test = train_test_split(X, y, test_size=0.33, random_state=42)"
   ]
  },
  {
   "cell_type": "markdown",
   "id": "b3c86f5a",
   "metadata": {},
   "source": [
    "## Set up model\n",
    "\n",
    "### Setting up normalizer"
   ]
  },
  {
   "cell_type": "code",
   "execution_count": 5,
   "id": "91b52346",
   "metadata": {},
   "outputs": [
    {
     "name": "stderr",
     "output_type": "stream",
     "text": [
      "2022-11-03 17:43:07.135753: W tensorflow/stream_executor/platform/default/dso_loader.cc:64] Could not load dynamic library 'libcuda.so.1'; dlerror: libcuda.so.1: cannot open shared object file: No such file or directory\n",
      "2022-11-03 17:43:07.135790: W tensorflow/stream_executor/cuda/cuda_driver.cc:263] failed call to cuInit: UNKNOWN ERROR (303)\n",
      "2022-11-03 17:43:07.135816: I tensorflow/stream_executor/cuda/cuda_diagnostics.cc:156] kernel driver does not appear to be running on this host (johan-tuxedopulse15gen2): /proc/driver/nvidia/version does not exist\n",
      "2022-11-03 17:43:07.136099: I tensorflow/core/platform/cpu_feature_guard.cc:193] This TensorFlow binary is optimized with oneAPI Deep Neural Network Library (oneDNN) to use the following CPU instructions in performance-critical operations:  AVX2 FMA\n",
      "To enable them in other operations, rebuild TensorFlow with the appropriate compiler flags.\n"
     ]
    }
   ],
   "source": [
    "normalizer = tf.keras.layers.Normalization(axis=-1)\n",
    "normalizer.adapt(np.array(X_train))"
   ]
  },
  {
   "cell_type": "markdown",
   "id": "89c44650",
   "metadata": {},
   "source": [
    "## Optimizers and linear regression"
   ]
  },
  {
   "cell_type": "code",
   "execution_count": 6,
   "id": "5d1f8b90",
   "metadata": {},
   "outputs": [
    {
     "name": "stdout",
     "output_type": "stream",
     "text": [
      "Epoch 1/10\n",
      "11/11 [==============================] - 0s 3ms/step - loss: 0.7134\n",
      "Epoch 2/10\n",
      "11/11 [==============================] - 0s 3ms/step - loss: 0.1393\n",
      "Epoch 3/10\n",
      "11/11 [==============================] - 0s 2ms/step - loss: 0.0591\n",
      "Epoch 4/10\n",
      "11/11 [==============================] - 0s 2ms/step - loss: 0.0412\n",
      "Epoch 5/10\n",
      "11/11 [==============================] - 0s 2ms/step - loss: 0.0281\n",
      "Epoch 6/10\n",
      "11/11 [==============================] - 0s 2ms/step - loss: 0.0232\n",
      "Epoch 7/10\n",
      "11/11 [==============================] - 0s 2ms/step - loss: 0.0140\n",
      "Epoch 8/10\n",
      "11/11 [==============================] - 0s 2ms/step - loss: 0.0182\n",
      "Epoch 9/10\n",
      "11/11 [==============================] - 0s 2ms/step - loss: 0.0199\n",
      "Epoch 10/10\n",
      "11/11 [==============================] - 0s 2ms/step - loss: 0.0163\n",
      "11/11 [==============================] - 0s 2ms/step\n",
      "6/6 [==============================] - 0s 2ms/step\n"
     ]
    }
   ],
   "source": [
    "linear_model = tf.keras.Sequential([\n",
    "    normalizer,\n",
    "    tf.keras.layers.Dense(units=1)\n",
    "])\n",
    "\n",
    "linear_model.compile(\n",
    "    optimizer=tf.keras.optimizers.Adam(learning_rate=1e-1),\n",
    "    loss='mean_absolute_error')\n",
    "linear_model.fit(X_train, y_train, epochs = 10)\n",
    "ypred_train_adam = linear_model.predict(X_train)\n",
    "ypred_test_adam = linear_model.predict(X_test)"
   ]
  },
  {
   "cell_type": "code",
   "execution_count": 7,
   "id": "0b1ee591",
   "metadata": {},
   "outputs": [
    {
     "data": {
      "text/plain": [
       "<matplotlib.legend.Legend at 0x7f3c04190d60>"
      ]
     },
     "execution_count": 7,
     "metadata": {},
     "output_type": "execute_result"
    },
    {
     "data": {
      "image/png": "[encoded data removed]",
      "text/plain": [
       "<Figure size 432x288 with 1 Axes>"
      ]
     },
     "metadata": {
      "needs_background": "light"
     },
     "output_type": "display_data"
    }
   ],
   "source": [
    "plt.plot(x, y, label='y')\n",
    "plt.scatter(X_train[:,1].ravel(), ypred_train_adam.ravel(), label='pred train')\n",
    "plt.scatter(X_test[:,1].ravel(), ypred_test_adam.ravel(), label='pred test')\n",
    "plt.legend()"
   ]
  },
  {
   "cell_type": "markdown",
   "id": "2837e645",
   "metadata": {},
   "source": [
    "### Deep NN linear regression"
   ]
  },
  {
   "cell_type": "code",
   "execution_count": 8,
   "id": "3c5985c8",
   "metadata": {},
   "outputs": [],
   "source": [
    "def build_and_compile_model(norm, lr = 1e-3):\n",
    "    model = tf.keras.Sequential([\n",
    "      norm,\n",
    "      tf.keras.layers.Dense(64, activation='relu'),\n",
    "      tf.keras.layers.Dense(64, activation='relu'),\n",
    "      tf.keras.layers.Dense(1)\n",
    "    ])\n",
    "\n",
    "    model.compile(loss='mean_absolute_error',\n",
    "                optimizer=tf.keras.optimizers.Adam(learning_rate = lr))\n",
    "    return model"
   ]
  },
  {
   "cell_type": "markdown",
   "id": "cc885097",
   "metadata": {},
   "source": [
    "## compile the model"
   ]
  },
  {
   "cell_type": "code",
   "execution_count": 15,
   "id": "f3773736",
   "metadata": {},
   "outputs": [],
   "source": [
    "dnn_regression_model = build_and_compile_model(normalizer, lr=1e-1)\n",
    "#dnn_regression_model.summary()"
   ]
  },
  {
   "cell_type": "markdown",
   "id": "f097eab2",
   "metadata": {},
   "source": [
    "## fit the training data"
   ]
  },
  {
   "cell_type": "code",
   "execution_count": 16,
   "id": "26089493",
   "metadata": {},
   "outputs": [
    {
     "name": "stdout",
     "output_type": "stream",
     "text": [
      "Epoch 1/10\n",
      "11/11 [==============================] - 1s 3ms/step - loss: 1.0292\n",
      "Epoch 2/10\n",
      "11/11 [==============================] - 0s 3ms/step - loss: 0.2100\n",
      "Epoch 3/10\n",
      "11/11 [==============================] - 0s 3ms/step - loss: 0.2035\n",
      "Epoch 4/10\n",
      "11/11 [==============================] - 0s 3ms/step - loss: 0.0806\n",
      "Epoch 5/10\n",
      "11/11 [==============================] - 0s 3ms/step - loss: 0.1542\n",
      "Epoch 6/10\n",
      "11/11 [==============================] - 0s 3ms/step - loss: 0.1591\n",
      "Epoch 7/10\n",
      "11/11 [==============================] - 0s 2ms/step - loss: 0.1044\n",
      "Epoch 8/10\n",
      "11/11 [==============================] - 0s 3ms/step - loss: 0.0558\n",
      "Epoch 9/10\n",
      "11/11 [==============================] - 0s 3ms/step - loss: 0.0677\n",
      "Epoch 10/10\n",
      "11/11 [==============================] - 0s 3ms/step - loss: 0.0838\n"
     ]
    },
    {
     "data": {
      "text/plain": [
       "<keras.callbacks.History at 0x7f3bec177ca0>"
      ]
     },
     "execution_count": 16,
     "metadata": {},
     "output_type": "execute_result"
    }
   ],
   "source": [
    "dnn_regression_model.fit(X_train, y_train, epochs=10)"
   ]
  },
  {
   "cell_type": "markdown",
   "id": "14c20b3b",
   "metadata": {},
   "source": [
    "## evaluate the model"
   ]
  },
  {
   "cell_type": "code",
   "execution_count": 17,
   "id": "29699761",
   "metadata": {},
   "outputs": [
    {
     "name": "stdout",
     "output_type": "stream",
     "text": [
      "6/6 [==============================] - 0s 2ms/step\n"
     ]
    }
   ],
   "source": [
    "ypred_dnn = dnn_regression_model.predict(X_test)"
   ]
  },
  {
   "cell_type": "code",
   "execution_count": 18,
   "id": "85870016",
   "metadata": {},
   "outputs": [
    {
     "data": {
      "text/plain": [
       "<matplotlib.legend.Legend at 0x7f3bec040850>"
      ]
     },
     "execution_count": 18,
     "metadata": {},
     "output_type": "execute_result"
    },
    {
     "data": {
      "image/png": "[encoded data removed]",
      "text/plain": [
       "<Figure size 432x288 with 1 Axes>"
      ]
     },
     "metadata": {
      "needs_background": "light"
     },
     "output_type": "display_data"
    }
   ],
   "source": [
    "plt.plot(x,y, label=\"y\")\n",
    "plt.scatter(X_test[:,1], ypred_dnn, label=\"pred\", s=2, color='C1')\n",
    "plt.legend()"
   ]
  },
  {
   "cell_type": "markdown",
   "id": "82a334b0",
   "metadata": {},
   "source": [
    "# Own implementation"
   ]
  },
  {
   "cell_type": "code",
   "execution_count": 13,
   "id": "ecb32a4f",
   "metadata": {},
   "outputs": [
    {
     "data": {
      "text/plain": [
       "array([[-0.033, -0.032, -0.031, ..., -1.556, -1.563, -1.571],\n",
       "       [ 0.29 ,  0.295,  0.299, ...,  0.776,  0.774,  0.772],\n",
       "       [ 0.948,  0.942,  0.936, ..., -0.868, -0.869, -0.87 ],\n",
       "       ...,\n",
       "       [ 0.437,  0.438,  0.438, ...,  0.618,  0.618,  0.619],\n",
       "       [-1.392, -1.385, -1.377, ...,  0.069,  0.067,  0.066],\n",
       "       [ 0.3  ,  0.299,  0.297, ...,  0.252,  0.253,  0.254]])"
      ]
     },
     "execution_count": 13,
     "metadata": {},
     "output_type": "execute_result"
    }
   ],
   "source": [
    "n_hl = 100 # number of neurons in the first hidden layer\n",
    "w0 = np.random.normal(0,.5, size=(X.shape[1], n_hl))\n",
    "w0.T @ X.T"
   ]
  },
  {
   "cell_type": "code",
   "execution_count": 22,
   "id": "17c634bd",
   "metadata": {},
   "outputs": [
    {
     "data": {
      "text/plain": [
       "(500, 10)"
      ]
     },
     "execution_count": 22,
     "metadata": {},
     "output_type": "execute_result"
    }
   ],
   "source": [
    "from project2.neural_network import Neural_Network\n",
    "nn = Neural_Network(X, y, layers = 1, nodes = 10)\n",
    "nn.a[0].shape"
   ]
  }
 ],
 "metadata": {
  "kernelspec": {
   "display_name": "Python 3 (ipykernel)",
   "language": "python",
   "name": "python3"
  },
  "language_info": {
   "codemirror_mode": {
    "name": "ipython",
    "version": 3
   },
   "file_extension": ".py",
   "mimetype": "text/x-python",
   "name": "python",
   "nbconvert_exporter": "python",
   "pygments_lexer": "ipython3",
   "version": "3.9.12"
  }
 },
 "nbformat": 4,
 "nbformat_minor": 5
}
